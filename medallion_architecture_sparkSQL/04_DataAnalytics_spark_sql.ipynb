{
 "cells": [
  {
   "cell_type": "markdown",
   "id": "6b69fdff",
   "metadata": {},
   "source": [
    "# Data Analytics (Spark SQL)\n",
    "\n",
    "This notebook runs **Analytics queries** in Spark SQL.\n",
    "\n",
    "- Explores dimensions, measures, rankings, and trends\n",
    "- Performs cumulative and segmentation analysis\n",
    "- Evaluates performance and part-to-whole contributions\n",
    "\n",
    "The notebook demonstrates how to query the Gold layer for insights.\n"
   ]
  }
 ],
 "metadata": {},
 "nbformat": 4,
 "nbformat_minor": 5
}

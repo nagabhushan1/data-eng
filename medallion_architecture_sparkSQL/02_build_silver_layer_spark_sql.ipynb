{
 "cells": [
  {
   "cell_type": "markdown",
   "id": "344fb016",
   "metadata": {},
   "source": [
    "# 02 — Build Silver Layer (Spark SQL)\n",
    "\n",
    "This notebook builds the **Silver Layer** in Spark SQL.\n",
    "\n",
    "- Creates the `silver` database\n",
    "- Transforms Bronze tables into clean, conformed tables\n",
    "- Handles deduplication, type casting, standardization\n",
    "- Adds audit timestamps\n",
    "\n",
    "The Silver layer provides business-ready, clean datasets.\n"
   ]
  }
 ],
 "metadata": {},
 "nbformat": 4,
 "nbformat_minor": 5
}

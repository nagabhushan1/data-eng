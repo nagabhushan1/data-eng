{
 "cells": [
  {
   "cell_type": "markdown",
   "id": "6b25ac45",
   "metadata": {},
   "source": [
    "# 02 — Build Silver Layer (Spark SQL)\n",
    "\n",
    "> **Colab-ready Spark SQL notebooks** following Medallion Architecture.\n",
    "> Run notebooks in order: **01 Bronze → 02 Silver → 03 Gold → Analytics**.\n",
    "\n",
    "### Conventions\n",
    "- Databases (schemas): `bronze`, `silver`, `gold`\n",
    "- Naming: `snake_case`\n",
    "- Storage: managed tables under `/content/spark-warehouse` (created automatically)\n",
    "- All code uses **Spark SQL** via `spark.sql(...)` and shows previews with `.show(10, truncate=False)`"
   ]
  },
  {
   "cell_type": "code",
   "execution_count": null,
   "id": "83f6ca33",
   "metadata": {},
   "outputs": [],
   "source": [
    "from pyspark.sql import SparkSession\n",
    "spark = (SparkSession.builder.appName(\"Medallion-SparkSQL\")\n",
    "         .config(\"spark.sql.warehouse.dir\", \"/content/spark-warehouse\")\n",
    "         .enableHiveSupport().getOrCreate())\n",
    "for db in [\"bronze\",\"silver\",\"gold\"]:\n",
    "    spark.sql(f\"CREATE DATABASE IF NOT EXISTS {db}\")\n",
    "print(\"Databases ready:\", [r.databaseName for r in spark.sql(\"SHOW DATABASES\").collect()])"
   ]
  },
  {
   "cell_type": "code",
   "execution_count": null,
   "id": "5b4b7c30",
   "metadata": {},
   "outputs": [],
   "source": [
    "def preview(table_fqn, limit=10):\n",
    "    print(\"\\n=== Preview:\", table_fqn, \"===\")\n",
    "    spark.sql(f\"SELECT COUNT(*) AS row_count FROM {table_fqn}\").show(truncate=False)\n",
    "    spark.sql(f\"SELECT * FROM {table_fqn} LIMIT {limit}\").show(limit, truncate=False)"
   ]
  },
  {
   "cell_type": "markdown",
   "id": "41fab7f0",
   "metadata": {},
   "source": [
    "### silver.crm_cust_info"
   ]
  },
  {
   "cell_type": "code",
   "execution_count": null,
   "id": "4579c52b",
   "metadata": {},
   "outputs": [],
   "source": [
    "spark.sql(\"DROP TABLE IF EXISTS silver.crm_cust_info\")\n",
    "spark.sql('''CREATE TABLE silver.crm_cust_info AS\n",
    "WITH ranked AS (SELECT b.*, ROW_NUMBER() OVER (PARTITION BY cst_id ORDER BY cst_create_date DESC) rn FROM bronze.crm_cust_info b)\n",
    "SELECT CAST(cst_id AS INT) cst_id, CAST(cst_key AS STRING) cst_key,\n",
    "       TRIM(cst_firstname) cst_firstname, TRIM(cst_lastname) cst_lastname,\n",
    "       CASE UPPER(TRIM(cst_marital_status)) WHEN 'S' THEN 'Single' WHEN 'M' THEN 'Married' ELSE 'n/a' END cst_marital_status,\n",
    "       CASE UPPER(TRIM(cst_gndr)) WHEN 'F' THEN 'Female' WHEN 'M' THEN 'Male' ELSE 'n/a' END cst_gndr,\n",
    "       CAST(cst_create_date AS DATE) cst_create_date, current_timestamp() dwh_create_ts\n",
    "FROM ranked WHERE rn=1'''); preview(\"silver.crm_cust_info\")"
   ]
  },
  {
   "cell_type": "markdown",
   "id": "95a1452b",
   "metadata": {},
   "source": [
    "### silver.crm_prd_info"
   ]
  },
  {
   "cell_type": "code",
   "execution_count": null,
   "id": "f266d8ea",
   "metadata": {},
   "outputs": [],
   "source": [
    "spark.sql(\"DROP TABLE IF EXISTS silver.crm_prd_info\")\n",
    "spark.sql('''CREATE TABLE silver.crm_prd_info AS\n",
    "WITH base AS (\n",
    "  SELECT CAST(prd_id AS INT) prd_id, CAST(prd_key AS STRING) prd_key,\n",
    "         SUBSTR(prd_key,1,5) cat_id_raw, SUBSTR(prd_key,7) prd_key_clean,\n",
    "         CAST(prd_nm AS STRING) prd_nm, CAST(prd_cost AS INT) prd_cost,\n",
    "         CAST(prd_line AS STRING) prd_line, CAST(prd_start_dt AS TIMESTAMP) prd_start_ts\n",
    "  FROM bronze.crm_prd_info),\n",
    "ordered AS (\n",
    "  SELECT prd_id, REGEXP_REPLACE(cat_id_raw,'-','_') cat_id, prd_key_clean prd_key, prd_nm, prd_cost,\n",
    "         CASE UPPER(TRIM(prd_line)) WHEN 'M' THEN 'Mountain' WHEN 'R' THEN 'Road' WHEN 'S' THEN 'Other Sales' WHEN 'T' THEN 'Touring' ELSE 'n/a' END prd_line,\n",
    "         CAST(prd_start_ts AS DATE) prd_start_dt,\n",
    "         LEAD(CAST(prd_start_ts AS DATE)) OVER (PARTITION BY prd_key_clean ORDER BY prd_start_ts) next_start\n",
    "  FROM base)\n",
    "SELECT prd_id, cat_id, prd_key, prd_nm, prd_cost, prd_line, prd_start_dt,\n",
    "       CASE WHEN next_start IS NULL THEN NULL ELSE date_sub(next_start,1) END prd_end_dt,\n",
    "       current_timestamp() dwh_create_ts\n",
    "FROM ordered'''); preview(\"silver.crm_prd_info\")"
   ]
  },
  {
   "cell_type": "markdown",
   "id": "d2da4c1e",
   "metadata": {},
   "source": [
    "### silver.crm_sales_details"
   ]
  },
  {
   "cell_type": "code",
   "execution_count": null,
   "id": "1c44c024",
   "metadata": {},
   "outputs": [],
   "source": [
    "spark.sql(\"DROP TABLE IF EXISTS silver.crm_sales_details\")\n",
    "spark.sql('''CREATE TABLE silver.crm_sales_details AS\n",
    "WITH parsed AS (\n",
    "  SELECT CAST(sls_ord_num AS STRING) sls_ord_num, CAST(sls_prd_key AS STRING) sls_prd_key, CAST(sls_cust_id AS INT) sls_cust_id,\n",
    "         to_date(CAST(sls_order_dt AS STRING),'yyyyMMdd') sls_order_dt,\n",
    "         to_date(CAST(sls_ship_dt AS STRING),'yyyyMMdd') sls_ship_dt,\n",
    "         to_date(CAST(sls_due_dt AS STRING),'yyyyMMdd') sls_due_dt,\n",
    "         CAST(sls_sales AS INT) sls_sales, CAST(sls_quantity AS INT) sls_quantity, CAST(sls_price AS INT) sls_price\n",
    "  FROM bronze.crm_sales_details),\n",
    "fixed AS (\n",
    "  SELECT sls_ord_num, sls_prd_key, sls_cust_id, sls_order_dt, sls_ship_dt, sls_due_dt,\n",
    "         COALESCE(sls_sales,0) sls_sales, sls_quantity, sls_price,\n",
    "         (sls_quantity * abs(COALESCE(sls_price,0))) computed_sales FROM parsed),\n",
    "reconciled AS (\n",
    "  SELECT sls_ord_num, sls_prd_key, sls_cust_id, sls_order_dt, sls_ship_dt, sls_due_dt,\n",
    "         CASE WHEN sls_sales <= 0 OR sls_sales <> computed_sales THEN computed_sales ELSE sls_sales END sls_sales,\n",
    "         sls_quantity,\n",
    "         CASE WHEN sls_price IS NULL OR sls_price <= 0 THEN CAST(sls_sales / NULLIF(sls_quantity,0) AS INT) ELSE sls_price END sls_price\n",
    "  FROM fixed)\n",
    "SELECT *, current_timestamp() dwh_create_ts FROM reconciled'''); preview(\"silver.crm_sales_details\")"
   ]
  },
  {
   "cell_type": "markdown",
   "id": "cbd63c20",
   "metadata": {},
   "source": [
    "### silver.erp_cust_az12"
   ]
  },
  {
   "cell_type": "code",
   "execution_count": null,
   "id": "23878676",
   "metadata": {},
   "outputs": [],
   "source": [
    "spark.sql(\"DROP TABLE IF EXISTS silver.erp_cust_az12\")\n",
    "spark.sql('''CREATE TABLE silver.erp_cust_az12 AS\n",
    "SELECT CASE WHEN cid LIKE 'NAS%%' THEN SUBSTR(cid,4) ELSE cid END cid,\n",
    "       CASE WHEN bdate > current_date() THEN NULL ELSE CAST(bdate AS DATE) END bdate,\n",
    "       CASE WHEN UPPER(TRIM(gen)) IN ('F','FEMALE') THEN 'Female' WHEN UPPER(TRIM(gen)) IN ('M','MALE') THEN 'Male' ELSE 'n/a' END gen,\n",
    "       current_timestamp() dwh_create_ts\n",
    "FROM bronze.erp_cust_az12'''); preview(\"silver.erp_cust_az12\")"
   ]
  },
  {
   "cell_type": "markdown",
   "id": "b1978b8b",
   "metadata": {},
   "source": [
    "### silver.erp_loc_a101"
   ]
  },
  {
   "cell_type": "code",
   "execution_count": null,
   "id": "e73b4f3f",
   "metadata": {},
   "outputs": [],
   "source": [
    "spark.sql(\"DROP TABLE IF EXISTS silver.erp_loc_a101\")\n",
    "spark.sql('''CREATE TABLE silver.erp_loc_a101 AS\n",
    "SELECT REPLACE(CAST(cid AS STRING),'-','') cid,\n",
    "       CASE TRIM(CAST(cntry AS STRING)) WHEN 'DE' THEN 'Germany' WHEN 'US' THEN 'United States' WHEN 'USA' THEN 'United States'\n",
    "            WHEN '' THEN 'n/a' ELSE TRIM(CAST(cntry AS STRING)) END cntry,\n",
    "       current_timestamp() dwh_create_ts\n",
    "FROM bronze.erp_loc_a101'''); preview(\"silver.erp_loc_a101\")"
   ]
  },
  {
   "cell_type": "markdown",
   "id": "c7e4712e",
   "metadata": {},
   "source": [
    "### silver.erp_px_cat_g1v2"
   ]
  },
  {
   "cell_type": "code",
   "execution_count": null,
   "id": "82aeecef",
   "metadata": {},
   "outputs": [],
   "source": [
    "spark.sql(\"DROP TABLE IF EXISTS silver.erp_px_cat_g1v2\")\n",
    "spark.sql(\"CREATE TABLE silver.erp_px_cat_g1v2 AS SELECT CAST(id AS STRING) id, CAST(cat AS STRING) cat, CAST(subcat AS STRING) subcat, CAST(maintenance AS STRING) maintenance, current_timestamp() dwh_create_ts FROM bronze.erp_px_cat_g1v2\"); preview(\"silver.erp_px_cat_g1v2\")"
   ]
  }
 ],
 "metadata": {
  "kernelspec": {
   "display_name": "Python 3",
   "language": "python",
   "name": "python3"
  }
 },
 "nbformat": 4,
 "nbformat_minor": 5
}

{
 "cells": [
  {
   "cell_type": "markdown",
   "id": "eb08f357",
   "metadata": {},
   "source": [
    "# 03 — Build Gold Layer (Spark SQL)\n",
    "\n",
    "> **Colab-ready Spark SQL notebooks** following Medallion Architecture.\n",
    "> Run notebooks in order: **01 Bronze → 02 Silver → 03 Gold → Analytics**.\n",
    "\n",
    "### Conventions\n",
    "- Databases (schemas): `bronze`, `silver`, `gold`\n",
    "- Naming: `snake_case`\n",
    "- Storage: managed tables under `/content/spark-warehouse` (created automatically)\n",
    "- All code uses **Spark SQL** via `spark.sql(...)` and shows previews with `.show(10, truncate=False)`"
   ]
  },
  {
   "cell_type": "code",
   "execution_count": null,
   "id": "b59069a5",
   "metadata": {},
   "outputs": [],
   "source": [
    "from pyspark.sql import SparkSession\n",
    "spark = (SparkSession.builder.appName(\"Medallion-SparkSQL\")\n",
    "         .config(\"spark.sql.warehouse.dir\", \"/content/spark-warehouse\")\n",
    "         .enableHiveSupport().getOrCreate())\n",
    "for db in [\"bronze\",\"silver\",\"gold\"]:\n",
    "    spark.sql(f\"CREATE DATABASE IF NOT EXISTS {db}\")\n",
    "print(\"Databases ready:\", [r.databaseName for r in spark.sql(\"SHOW DATABASES\").collect()])"
   ]
  },
  {
   "cell_type": "code",
   "execution_count": null,
   "id": "bb1da390",
   "metadata": {},
   "outputs": [],
   "source": [
    "def preview(table_fqn, limit=10):\n",
    "    print(\"\\n=== Preview:\", table_fqn, \"===\")\n",
    "    spark.sql(f\"SELECT COUNT(*) AS row_count FROM {table_fqn}\").show(truncate=False)\n",
    "    spark.sql(f\"SELECT * FROM {table_fqn} LIMIT {limit}\").show(limit, truncate=False)"
   ]
  },
  {
   "cell_type": "markdown",
   "id": "af06c513",
   "metadata": {},
   "source": [
    "### gold.dim_customers (VIEW)"
   ]
  },
  {
   "cell_type": "code",
   "execution_count": null,
   "id": "5bc6cd26",
   "metadata": {},
   "outputs": [],
   "source": [
    "spark.sql(\"DROP VIEW IF EXISTS gold.dim_customers\")\n",
    "spark.sql('''CREATE VIEW gold.dim_customers AS\n",
    "SELECT ROW_NUMBER() OVER (ORDER BY ci.cst_id) customer_key, ci.cst_id customer_id, ci.cst_key customer_number,\n",
    "       ci.cst_firstname first_name, ci.cst_lastname last_name, la.cntry country, ci.cst_marital_status marital_status,\n",
    "       CASE WHEN ci.cst_gndr <> 'n/a' THEN ci.cst_gndr ELSE COALESCE(ca.gen,'n/a') END gender,\n",
    "       ca.bdate birthdate, ci.cst_create_date create_date\n",
    "FROM silver.crm_cust_info ci\n",
    "LEFT JOIN silver.erp_cust_az12 ca ON ci.cst_key = ca.cid\n",
    "LEFT JOIN silver.erp_loc_a101 la ON ci.cst_key = la.cid'''); preview(\"gold.dim_customers\")"
   ]
  },
  {
   "cell_type": "markdown",
   "id": "bd302fec",
   "metadata": {},
   "source": [
    "### gold.dim_products (VIEW)"
   ]
  },
  {
   "cell_type": "code",
   "execution_count": null,
   "id": "af0aba4a",
   "metadata": {},
   "outputs": [],
   "source": [
    "spark.sql(\"DROP VIEW IF EXISTS gold.dim_products\")\n",
    "spark.sql('''CREATE VIEW gold.dim_products AS\n",
    "SELECT ROW_NUMBER() OVER (ORDER BY pn.prd_start_dt, pn.prd_key) product_key, pn.prd_id product_id, pn.prd_key product_number,\n",
    "       pn.prd_nm product_name, pn.cat_id category_id, pc.cat category, pc.subcat subcategory, pc.maintenance maintenance,\n",
    "       pn.prd_cost cost, pn.prd_line product_line, pn.prd_start_dt start_date\n",
    "FROM silver.crm_prd_info pn\n",
    "LEFT JOIN silver.erp_px_cat_g1v2 pc ON pn.cat_id = pc.id\n",
    "WHERE pn.prd_end_dt IS NULL'''); preview(\"gold.dim_products\")"
   ]
  },
  {
   "cell_type": "markdown",
   "id": "56b10583",
   "metadata": {},
   "source": [
    "### gold.fact_sales (TABLE)"
   ]
  },
  {
   "cell_type": "code",
   "execution_count": null,
   "id": "b0d559eb",
   "metadata": {},
   "outputs": [],
   "source": [
    "spark.sql(\"DROP TABLE IF EXISTS gold.fact_sales\")\n",
    "spark.sql('''CREATE TABLE gold.fact_sales AS\n",
    "SELECT sd.sls_ord_num order_number, pr.product_key product_key, cu.customer_key customer_key,\n",
    "       sd.sls_order_dt order_date, sd.sls_ship_dt shipping_date, sd.sls_due_dt due_date,\n",
    "       sd.sls_sales sales_amount, sd.sls_quantity quantity, sd.sls_price price\n",
    "FROM silver.crm_sales_details sd\n",
    "LEFT JOIN gold.dim_products pr  ON sd.sls_prd_key = pr.product_number\n",
    "LEFT JOIN gold.dim_customers cu ON sd.sls_cust_id = cu.customer_id'''); preview(\"gold.fact_sales\")"
   ]
  }
 ],
 "metadata": {
  "kernelspec": {
   "display_name": "Python 3",
   "language": "python",
   "name": "python3"
  }
 },
 "nbformat": 4,
 "nbformat_minor": 5
}

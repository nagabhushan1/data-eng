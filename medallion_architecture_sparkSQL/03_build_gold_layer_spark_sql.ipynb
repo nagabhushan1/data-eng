{
 "cells": [
  {
   "cell_type": "markdown",
   "id": "a77f5094",
   "metadata": {},
   "source": [
    "# 03 — Build Gold Layer (Spark SQL)\n",
    "\n",
    "This notebook builds the **Gold Layer** in Spark SQL.\n",
    "\n",
    "- Creates the `gold` database\n",
    "- Builds dimension and fact tables (star schema)\n",
    "- Implements surrogate keys with ROW_NUMBER()\n",
    "- Prepares BI/analytics-ready views and tables\n",
    "\n",
    "The Gold layer is optimized for BI and analytics workloads.\n"
   ]
  }
 ],
 "metadata": {},
 "nbformat": 4,
 "nbformat_minor": 5
}

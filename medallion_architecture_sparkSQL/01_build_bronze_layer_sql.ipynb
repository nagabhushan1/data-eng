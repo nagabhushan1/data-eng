{
 "cells": [
  {
   "cell_type": "markdown",
   "id": "160bece0",
   "metadata": {},
   "source": [
    "### Medallion Architecture — Spark SQL Version (Colab)\n",
    "\n",
    "This notebook demonstrates the **Medallion Architecture** using **Spark SQL** in Google Colab.\n",
    "All datasets are expected under **`/content`**.\n",
    "\n",
    "- No notebook magics are used.\n",
    "- SQL is executed with `spark.sql(\"\"\" ... \"\"\")`.\n",
    "- Each code cell has a preceding Markdown explanation.\n",
    "- Logic mirrors the working PySpark DataFrame notebooks, expressed in **readable SQL**."
   ]
  },
  {
   "cell_type": "markdown",
   "id": "d13003a9",
   "metadata": {},
   "source": [
    "#### Environment Setup\n",
    "Create or reuse a Spark session. Keep this minimal to avoid distractions for learners."
   ]
  },
  {
   "cell_type": "code",
   "execution_count": null,
   "id": "a8110ea4",
   "metadata": {},
   "outputs": [],
   "source": [
    "\n",
    "# Minimal Spark setup (Colab): assumes Java/Spark already installed per your environment bootstrap.\n",
    "from pyspark.sql import SparkSession\n",
    "spark = SparkSession.builder.appName(\"Medallion-SQL\").getOrCreate()\n",
    "\n",
    "# Helper to show current Spark version and confirm session\n",
    "print(\"Spark version:\", spark.version)\n",
    "\n",
    "# Set a base for data files. Adjust if needed.\n",
    "DATA_BASE = \"/content\"\n"
   ]
  },
  {
   "cell_type": "markdown",
   "id": "f7763d43",
   "metadata": {},
   "source": [
    "#### Create a dedicated database for the project\n",
    "We keep Bronze/Silver/Gold separated for clarity."
   ]
  },
  {
   "cell_type": "code",
   "execution_count": null,
   "id": "228cd85a",
   "metadata": {},
   "outputs": [],
   "source": [
    "spark.sql(\"\"\"\n",
    "CREATE DATABASE IF NOT EXISTS bronze;\n",
    "CREATE DATABASE IF NOT EXISTS silver;\n",
    "CREATE DATABASE IF NOT EXISTS gold;\n",
    "\"\"\")"
   ]
  },
  {
   "cell_type": "markdown",
   "id": "ea2bb122",
   "metadata": {},
   "source": [
    "#### Register raw CSVs as external Bronze tables (schema-on-read)\n",
    "We keep original data untouched and reproducible. Headers are respected and types inferred."
   ]
  },
  {
   "cell_type": "code",
   "execution_count": null,
   "id": "588c8b9d",
   "metadata": {},
   "outputs": [],
   "source": [
    "spark.sql(\"\"\"\n",
    "DROP TABLE IF EXISTS bronze.cust_info_csv;\n",
    "CREATE TABLE bronze.cust_info_csv\n",
    "USING csv\n",
    "OPTIONS (\n",
    "  header 'true',\n",
    "  inferSchema 'true',\n",
    "  path '/content/cust_info.csv'\n",
    ");\n",
    "\"\"\")"
   ]
  },
  {
   "cell_type": "code",
   "execution_count": null,
   "id": "708d2c89",
   "metadata": {},
   "outputs": [],
   "source": [
    "spark.sql(\"\"\"\n",
    "DROP TABLE IF EXISTS bronze.prd_info_csv;\n",
    "CREATE TABLE bronze.prd_info_csv\n",
    "USING csv\n",
    "OPTIONS (\n",
    "  header 'true',\n",
    "  inferSchema 'true',\n",
    "  path '/content/prd_info.csv'\n",
    ");\n",
    "\"\"\")"
   ]
  },
  {
   "cell_type": "code",
   "execution_count": null,
   "id": "17215d79",
   "metadata": {},
   "outputs": [],
   "source": [
    "spark.sql(\"\"\"\n",
    "DROP TABLE IF EXISTS bronze.sales_details_csv;\n",
    "CREATE TABLE bronze.sales_details_csv\n",
    "USING csv\n",
    "OPTIONS (\n",
    "  header 'true',\n",
    "  inferSchema 'true',\n",
    "  path '/content/sales_details.csv'\n",
    ");\n",
    "\"\"\")"
   ]
  },
  {
   "cell_type": "code",
   "execution_count": null,
   "id": "43f84f30",
   "metadata": {},
   "outputs": [],
   "source": [
    "spark.sql(\"\"\"\n",
    "\n",
    "DROP TABLE IF EXISTS bronze.px_cat_g1v2_csv;\n",
    "CREATE TABLE bronze.px_cat_g1v2_csv\n",
    "USING csv\n",
    "OPTIONS (header 'true', inferSchema 'true', path '/content/PX_CAT_G1V2.csv');\n",
    "\n",
    "DROP TABLE IF EXISTS bronze.cust_az12_csv;\n",
    "CREATE TABLE bronze.cust_az12_csv\n",
    "USING csv\n",
    "OPTIONS (header 'true', inferSchema 'true', path '/content/CUST_AZ12.csv');\n",
    "\n",
    "DROP TABLE IF EXISTS bronze.loc_a101_csv;\n",
    "CREATE TABLE bronze.loc_a101_csv\n",
    "USING csv\n",
    "OPTIONS (header 'true', inferSchema 'true', path '/content/LOC_A101.csv');\n",
    "\"\"\")"
   ]
  },
  {
   "cell_type": "markdown",
   "id": "cff3c5dd",
   "metadata": {},
   "source": [
    "#### Quick sanity checks on Bronze tables\n",
    "We avoid any transformations here—only basic previews."
   ]
  },
  {
   "cell_type": "code",
   "execution_count": null,
   "id": "bab38b18",
   "metadata": {},
   "outputs": [],
   "source": [
    "spark.sql(\"\"\"\n",
    "SELECT * FROM bronze.cust_info_csv LIMIT 10;\n",
    "\"\"\")"
   ]
  },
  {
   "cell_type": "code",
   "execution_count": null,
   "id": "466ccf13",
   "metadata": {},
   "outputs": [],
   "source": [
    "spark.sql(\"\"\"\n",
    "SELECT * FROM bronze.prd_info_csv LIMIT 10;\n",
    "\"\"\")"
   ]
  },
  {
   "cell_type": "code",
   "execution_count": null,
   "id": "3a8135f2",
   "metadata": {},
   "outputs": [],
   "source": [
    "spark.sql(\"\"\"\n",
    "SELECT * FROM bronze.sales_details_csv LIMIT 10;\n",
    "\"\"\")"
   ]
  }
 ],
 "metadata": {
  "language_info": {
   "name": "python"
  }
 },
 "nbformat": 4,
 "nbformat_minor": 5
}

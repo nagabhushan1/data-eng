{
 "cells": [
  {
   "cell_type": "markdown",
   "id": "7e03f999",
   "metadata": {},
   "source": [
    "# 01 — Build Bronze Layer (Spark SQL)\n",
    "\n",
    "This notebook builds the **Bronze Layer** in Spark SQL.\n",
    "\n",
    "- Creates the `bronze` database\n",
    "- Defines tables with explicit schemas\n",
    "- Loads raw data from CSV (Colab `/content` or GCS mount)\n",
    "- Previews the first 10 rows of each table\n",
    "\n",
    "The Bronze layer is the raw landing zone in Medallion Architecture.\n"
   ]
  }
 ],
 "metadata": {},
 "nbformat": 4,
 "nbformat_minor": 5
}

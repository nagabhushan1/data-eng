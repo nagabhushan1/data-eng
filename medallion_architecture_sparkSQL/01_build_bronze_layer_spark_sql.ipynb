{
 "cells": [
  {
   "cell_type": "markdown",
   "id": "8eb7b21f",
   "metadata": {},
   "source": [
    "# 01 — Build Bronze Layer (Spark SQL)\n",
    "\n",
    "> **Colab-ready Spark SQL notebooks** following Medallion Architecture.\n",
    "> Run notebooks in order: **01 Bronze → 02 Silver → 03 Gold → Analytics**.\n",
    "\n",
    "### Conventions\n",
    "- Databases (schemas): `bronze`, `silver`, `gold`\n",
    "- Naming: `snake_case`\n",
    "- Storage: managed tables under `/content/spark-warehouse` (created automatically)\n",
    "- All code uses **Spark SQL** via `spark.sql(...)` and shows previews with `.show(10, truncate=False)`\n",
    "\n",
    "## What is the Bronze layer?\n",
    "- **Raw landing zone** — store sources exactly as delivered.\n",
    "- Preserve raw fidelity and schema drift for auditability.\n",
    "- Keep loads **idempotent** (truncate → bulk load).\n",
    "- Avoid business rules; transform later in Silver."
   ]
  },
  {
   "cell_type": "code",
   "execution_count": null,
   "id": "5b6b9803",
   "metadata": {},
   "outputs": [],
   "source": [
    "from pyspark.sql import SparkSession\n",
    "spark = (SparkSession.builder.appName(\"Medallion-SparkSQL\")\n",
    "         .config(\"spark.sql.warehouse.dir\", \"/content/spark-warehouse\")\n",
    "         .enableHiveSupport().getOrCreate())\n",
    "for db in [\"bronze\",\"silver\",\"gold\"]:\n",
    "    spark.sql(f\"CREATE DATABASE IF NOT EXISTS {db}\")\n",
    "print(\"Databases ready:\", [r.databaseName for r in spark.sql(\"SHOW DATABASES\").collect()])"
   ]
  },
  {
   "cell_type": "code",
   "execution_count": null,
   "id": "34d9701e",
   "metadata": {},
   "outputs": [],
   "source": [
    "def preview(table_fqn, limit=10):\n",
    "    print(\"\\n=== Preview:\", table_fqn, \"===\")\n",
    "    spark.sql(f\"SELECT COUNT(*) AS row_count FROM {table_fqn}\").show(truncate=False)\n",
    "    spark.sql(f\"SELECT * FROM {table_fqn} LIMIT {limit}\").show(limit, truncate=False)"
   ]
  },
  {
   "cell_type": "markdown",
   "id": "770d8bdd",
   "metadata": {},
   "source": [
    "## Configure file locations"
   ]
  },
  {
   "cell_type": "code",
   "execution_count": null,
   "id": "6490ff59",
   "metadata": {},
   "outputs": [],
   "source": [
    "DATA_BASE=\"/content\"\n",
    "FILES={\"crm_cust_info\":f\"{DATA_BASE}/cust_info.csv\",\"crm_prd_info\":f\"{DATA_BASE}/prd_info.csv\",\n",
    "\"crm_sales_details\":f\"{DATA_BASE}/sales_details.csv\",\"erp_loc_a101\":f\"{DATA_BASE}/LOC_A101.csv\",\n",
    "\"erp_cust_az12\":f\"{DATA_BASE}/CUST_AZ12.csv\",\"erp_px_cat_g1v2\":f\"{DATA_BASE}/PX_CAT_G1V2.csv\"}; print(FILES)"
   ]
  },
  {
   "cell_type": "markdown",
   "id": "39fb3f1c",
   "metadata": {},
   "source": [
    "### bronze.crm_cust_info"
   ]
  },
  {
   "cell_type": "code",
   "execution_count": null,
   "id": "ec94b016",
   "metadata": {},
   "outputs": [],
   "source": [
    "spark.sql(\"DROP TABLE IF EXISTS bronze.crm_cust_info\")\n",
    "(spark.read.option(\"header\",True).option(\"inferSchema\",True).csv(FILES[\"crm_cust_info\"])\n",
    " .write.mode(\"overwrite\").saveAsTable(\"bronze.crm_cust_info\")); preview(\"bronze.crm_cust_info\")"
   ]
  },
  {
   "cell_type": "markdown",
   "id": "37c48a2b",
   "metadata": {},
   "source": [
    "### bronze.crm_prd_info"
   ]
  },
  {
   "cell_type": "code",
   "execution_count": null,
   "id": "0a066f60",
   "metadata": {},
   "outputs": [],
   "source": [
    "spark.sql(\"DROP TABLE IF EXISTS bronze.crm_prd_info\")\n",
    "(spark.read.option(\"header\",True).option(\"inferSchema\",True).csv(FILES[\"crm_prd_info\"])\n",
    " .write.mode(\"overwrite\").saveAsTable(\"bronze.crm_prd_info\")); preview(\"bronze.crm_prd_info\")"
   ]
  },
  {
   "cell_type": "markdown",
   "id": "6ea77df6",
   "metadata": {},
   "source": [
    "### bronze.crm_sales_details"
   ]
  },
  {
   "cell_type": "code",
   "execution_count": null,
   "id": "48e2ca2b",
   "metadata": {},
   "outputs": [],
   "source": [
    "spark.sql(\"DROP TABLE IF EXISTS bronze.crm_sales_details\")\n",
    "(spark.read.option(\"header\",True).option(\"inferSchema\",True).csv(FILES[\"crm_sales_details\"])\n",
    " .write.mode(\"overwrite\").saveAsTable(\"bronze.crm_sales_details\")); preview(\"bronze.crm_sales_details\")"
   ]
  },
  {
   "cell_type": "markdown",
   "id": "ddb612c9",
   "metadata": {},
   "source": [
    "### bronze.erp_loc_a101"
   ]
  },
  {
   "cell_type": "code",
   "execution_count": null,
   "id": "7f95c610",
   "metadata": {},
   "outputs": [],
   "source": [
    "spark.sql(\"DROP TABLE IF EXISTS bronze.erp_loc_a101\")\n",
    "(spark.read.option(\"header\",True).option(\"inferSchema\",True).csv(FILES[\"erp_loc_a101\"])\n",
    " .write.mode(\"overwrite\").saveAsTable(\"bronze.erp_loc_a101\")); preview(\"bronze.erp_loc_a101\")"
   ]
  },
  {
   "cell_type": "markdown",
   "id": "4013af7c",
   "metadata": {},
   "source": [
    "### bronze.erp_cust_az12"
   ]
  },
  {
   "cell_type": "code",
   "execution_count": null,
   "id": "decc9fb1",
   "metadata": {},
   "outputs": [],
   "source": [
    "spark.sql(\"DROP TABLE IF EXISTS bronze.erp_cust_az12\")\n",
    "(spark.read.option(\"header\",True).option(\"inferSchema\",True).csv(FILES[\"erp_cust_az12\"])\n",
    " .write.mode(\"overwrite\").saveAsTable(\"bronze.erp_cust_az12\")); preview(\"bronze.erp_cust_az12\")"
   ]
  },
  {
   "cell_type": "markdown",
   "id": "b83d7ddb",
   "metadata": {},
   "source": [
    "### bronze.erp_px_cat_g1v2"
   ]
  },
  {
   "cell_type": "code",
   "execution_count": null,
   "id": "2a9e3b7d",
   "metadata": {},
   "outputs": [],
   "source": [
    "spark.sql(\"DROP TABLE IF EXISTS bronze.erp_px_cat_g1v2\")\n",
    "(spark.read.option(\"header\",True).option(\"inferSchema\",True).csv(FILES[\"erp_px_cat_g1v2\"])\n",
    " .write.mode(\"overwrite\").saveAsTable(\"bronze.erp_px_cat_g1v2\")); preview(\"bronze.erp_px_cat_g1v2\")"
   ]
  }
 ],
 "metadata": {
  "kernelspec": {
   "display_name": "Python 3",
   "language": "python",
   "name": "python3"
  }
 },
 "nbformat": 4,
 "nbformat_minor": 5
}

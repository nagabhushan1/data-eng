{
 "cells": [
  {
   "cell_type": "markdown",
   "metadata": {},
   "source": [
    "## Spark SQL Features Demonstration\n",
    "\n",
    "This notebook demonstrates key Spark SQL features with examples:\n",
    "- Creating, using, and dropping Views\n",
    "- Queries with and without CTEs (Common Table Expressions)\n",
    "- Customers without orders (using Join vs SubQuery)\n",
    "- CTAS (Create Table As Select)"
   ]
  },
  {
   "cell_type": "markdown",
   "metadata": {},
   "source": [
    "### 1. Create a View\n",
    "We create a view to simplify queries. Views act like virtual tables based on existing queries."
   ]
  },
  {
   "cell_type": "code",
   "execution_count": null,
   "metadata": {},
   "outputs": [],
   "source": [
    "spark.sql(\"\"\"\n",
    "CREATE OR REPLACE TEMP VIEW completed_orders AS\n",
    "SELECT * FROM orders WHERE order_status IN ('COMPLETE','CLOSED')\n",
    "\"\"\")"
   ]
  },
  {
   "cell_type": "markdown",
   "metadata": {},
   "source": [
    "### 2. Use a View\n",
    "Querying from the view instead of the base table."
   ]
  },
  {
   "cell_type": "code",
   "execution_count": null,
   "metadata": {},
   "outputs": [],
   "source": [
    "spark.sql(\"SELECT order_id, order_date FROM completed_orders LIMIT 10\").show()"
   ]
  },
  {
   "cell_type": "markdown",
   "metadata": {},
   "source": [
    "### 3. Drop a View\n",
    "Remove the view when no longer needed."
   ]
  },
  {
   "cell_type": "code",
   "execution_count": null,
   "metadata": {},
   "outputs": [],
   "source": [
    "spark.sql(\"DROP VIEW IF EXISTS completed_orders\")"
   ]
  },
  {
   "cell_type": "markdown",
   "metadata": {},
   "source": [
    "### 4. Query Without CTE\n",
    "Calculate daily revenue directly in the query without a CTE."
   ]
  },
  {
   "cell_type": "code",
   "execution_count": null,
   "metadata": {},
   "outputs": [],
   "source": [
    "spark.sql(\"\"\"\n",
    "SELECT to_date(o.order_date) AS order_date,\n",
    "       ROUND(SUM(oi.order_item_subtotal),2) AS daily_revenue\n",
    "FROM orders o\n",
    "JOIN order_items oi ON o.order_id = oi.order_item_order_id\n",
    "WHERE o.order_status IN ('COMPLETE','CLOSED')\n",
    "GROUP BY to_date(o.order_date)\n",
    "ORDER BY order_date\n",
    "\"\"\").show(10, truncate=False)"
   ]
  },
  {
   "cell_type": "markdown",
   "metadata": {},
   "source": [
    "### 5. Query With CTE\n",
    "The same calculation, but using a CTE for better readability and reuse.\n",
    "\n",
    "**CTE (Common Table Expression):** A temporary result set defined within the query using the `WITH` clause."
   ]
  },
  {
   "cell_type": "code",
   "execution_count": null,
   "metadata": {},
   "outputs": [],
   "source": [
    "spark.sql(\"\"\"\n",
    "WITH revenue_cte AS (\n",
    "  SELECT to_date(o.order_date) AS order_date,\n",
    "         SUM(oi.order_item_subtotal) AS revenue\n",
    "  FROM orders o\n",
    "  JOIN order_items oi ON o.order_id = oi.order_item_order_id\n",
    "  WHERE o.order_status IN ('COMPLETE','CLOSED')\n",
    "  GROUP BY to_date(o.order_date)\n",
    ")\n",
    "SELECT order_date, ROUND(revenue,2) AS daily_revenue\n",
    "FROM revenue_cte\n",
    "ORDER BY order_date\n",
    "\"\"\").show(10, truncate=False)"
   ]
  },
  {
   "cell_type": "markdown",
   "metadata": {},
   "source": [
    "### 6. Customers Without Orders (Join Method)\n",
    "Find customers who have not placed any orders, using a LEFT JOIN."
   ]
  },
  {
   "cell_type": "code",
   "execution_count": null,
   "metadata": {},
   "outputs": [],
   "source": [
    "spark.sql(\"\"\"\n",
    "SELECT c.customer_id, c.customer_fname, c.customer_lname\n",
    "FROM customers c\n",
    "LEFT JOIN orders o ON c.customer_id = o.order_customer_id\n",
    "WHERE o.order_id IS NULL\n",
    "LIMIT 10\n",
    "\"\"\").show()"
   ]
  },
  {
   "cell_type": "markdown",
   "metadata": {},
   "source": [
    "### 7. Customers Without Orders (Subquery Method)\n",
    "Find customers without orders using a `NOT IN` subquery."
   ]
  },
  {
   "cell_type": "code",
   "execution_count": null,
   "metadata": {},
   "outputs": [],
   "source": [
    "spark.sql(\"\"\"\n",
    "SELECT customer_id, customer_fname, customer_lname\n",
    "FROM customers\n",
    "WHERE customer_id NOT IN (\n",
    "    SELECT DISTINCT order_customer_id FROM orders\n",
    ")\n",
    "LIMIT 10\n",
    "\"\"\").show()"
   ]
  }
 ],
 "metadata": {
  "kernelspec": {
   "display_name": "Python 3",
   "language": "python",
   "name": "python3"
  },
  "language_info": {
   "codemirror_mode": {
    "name": "ipython",
    "version": 3
   },
   "name": "python",
   "pygments_lexer": "ipython3"
  }
 },
 "nbformat": 4,
 "nbformat_minor": 5
}
